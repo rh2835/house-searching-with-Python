{
 "cells": [
  {
   "cell_type": "code",
   "execution_count": 189,
   "metadata": {},
   "outputs": [],
   "source": [
    "import pandas as pd\n",
    "import numpy as np\n",
    "import matplotlib.pyplot as plt\n",
    "import seaborn as sns\n",
    "sns.set()"
   ]
  },
  {
   "cell_type": "markdown",
   "metadata": {},
   "source": [
    "This project is a follow-up data analysis part on the previous one about web scraper on zillow. I used scraping housing data at 27560(zip code) area, which contains 80 houses for sale."
   ]
  },
  {
   "cell_type": "markdown",
   "metadata": {},
   "source": [
    "**Agenda**:\n",
    "* data transformation\n",
    "* add new features\n",
    "* correlation analysis\n",
    "* visualization of house details\n"
   ]
  },
  {
   "cell_type": "markdown",
   "metadata": {},
   "source": [
    "**Data transformation**"
   ]
  },
  {
   "cell_type": "code",
   "execution_count": 157,
   "metadata": {},
   "outputs": [
    {
     "name": "stderr",
     "output_type": "stream",
     "text": [
      "/Users/ruihu/anaconda3/lib/python3.6/site-packages/ipykernel_launcher.py:1: ParserWarning: Falling back to the 'python' engine because the 'c' engine does not support regex separators (separators > 1 char and different from '\\s+' are interpreted as regex); you can avoid this warning by specifying engine='python'.\n",
      "  \"\"\"Entry point for launching an IPython kernel.\n"
     ]
    }
   ],
   "source": [
    "data = pd.read_csv('individual_houses_in_27560.txt', sep=\" \\| \", header=None)"
   ]
  },
  {
   "cell_type": "code",
   "execution_count": 158,
   "metadata": {},
   "outputs": [
    {
     "data": {
      "text/html": [
       "<div>\n",
       "<style scoped>\n",
       "    .dataframe tbody tr th:only-of-type {\n",
       "        vertical-align: middle;\n",
       "    }\n",
       "\n",
       "    .dataframe tbody tr th {\n",
       "        vertical-align: top;\n",
       "    }\n",
       "\n",
       "    .dataframe thead th {\n",
       "        text-align: right;\n",
       "    }\n",
       "</style>\n",
       "<table border=\"1\" class=\"dataframe\">\n",
       "  <thead>\n",
       "    <tr style=\"text-align: right;\">\n",
       "      <th></th>\n",
       "      <th>id</th>\n",
       "      <th>price</th>\n",
       "      <th>beds</th>\n",
       "      <th>baths</th>\n",
       "      <th>sqft</th>\n",
       "      <th>elementary</th>\n",
       "      <th>middle</th>\n",
       "      <th>high</th>\n",
       "    </tr>\n",
       "  </thead>\n",
       "  <tbody>\n",
       "    <tr>\n",
       "      <th>0</th>\n",
       "      <td>https://www.zillow.com/homedetails/113-Hunters...</td>\n",
       "      <td>$269,900</td>\n",
       "      <td>3 beds</td>\n",
       "      <td>2 baths</td>\n",
       "      <td>1,203 sqft</td>\n",
       "      <td>9</td>\n",
       "      <td>6</td>\n",
       "      <td>8</td>\n",
       "    </tr>\n",
       "    <tr>\n",
       "      <th>1</th>\n",
       "      <td>https://www.zillow.com/homedetails/107-Gratiot...</td>\n",
       "      <td>$344,900</td>\n",
       "      <td>4 beds</td>\n",
       "      <td>3 baths</td>\n",
       "      <td>2,060 sqft</td>\n",
       "      <td>9</td>\n",
       "      <td>5</td>\n",
       "      <td>8</td>\n",
       "    </tr>\n",
       "    <tr>\n",
       "      <th>2</th>\n",
       "      <td>https://www.zillow.com/homedetails/204-Governo...</td>\n",
       "      <td>$400,000</td>\n",
       "      <td>4 beds</td>\n",
       "      <td>3 baths</td>\n",
       "      <td>2,821 sqft</td>\n",
       "      <td>9</td>\n",
       "      <td>5</td>\n",
       "      <td>8</td>\n",
       "    </tr>\n",
       "    <tr>\n",
       "      <th>3</th>\n",
       "      <td>https://www.zillow.com/homedetails/123-Trellin...</td>\n",
       "      <td>$2,349,000</td>\n",
       "      <td>6 beds</td>\n",
       "      <td>7 baths</td>\n",
       "      <td>7,676 sqft</td>\n",
       "      <td>8</td>\n",
       "      <td>5</td>\n",
       "      <td>8</td>\n",
       "    </tr>\n",
       "    <tr>\n",
       "      <th>4</th>\n",
       "      <td>https://www.zillow.com/homedetails/1713-Legend...</td>\n",
       "      <td>$369,900</td>\n",
       "      <td>3 beds</td>\n",
       "      <td>2.5 baths</td>\n",
       "      <td>2,360 sqft</td>\n",
       "      <td>9</td>\n",
       "      <td>6</td>\n",
       "      <td>6</td>\n",
       "    </tr>\n",
       "  </tbody>\n",
       "</table>\n",
       "</div>"
      ],
      "text/plain": [
       "                                                  id       price    beds  \\\n",
       "0  https://www.zillow.com/homedetails/113-Hunters...    $269,900  3 beds   \n",
       "1  https://www.zillow.com/homedetails/107-Gratiot...    $344,900  4 beds   \n",
       "2  https://www.zillow.com/homedetails/204-Governo...    $400,000  4 beds   \n",
       "3  https://www.zillow.com/homedetails/123-Trellin...  $2,349,000  6 beds   \n",
       "4  https://www.zillow.com/homedetails/1713-Legend...    $369,900  3 beds   \n",
       "\n",
       "       baths        sqft  elementary  middle  high  \n",
       "0    2 baths  1,203 sqft           9       6     8  \n",
       "1    3 baths  2,060 sqft           9       5     8  \n",
       "2    3 baths  2,821 sqft           9       5     8  \n",
       "3    7 baths  7,676 sqft           8       5     8  \n",
       "4  2.5 baths  2,360 sqft           9       6     6  "
      ]
     },
     "execution_count": 158,
     "metadata": {},
     "output_type": "execute_result"
    }
   ],
   "source": [
    "data.columns = ['id','price','beds','baths','sqft','elementary','middle','high']\n",
    "data.head()"
   ]
  },
  {
   "cell_type": "markdown",
   "metadata": {},
   "source": [
    "check null value"
   ]
  },
  {
   "cell_type": "code",
   "execution_count": 148,
   "metadata": {},
   "outputs": [
    {
     "data": {
      "text/html": [
       "<div>\n",
       "<style scoped>\n",
       "    .dataframe tbody tr th:only-of-type {\n",
       "        vertical-align: middle;\n",
       "    }\n",
       "\n",
       "    .dataframe tbody tr th {\n",
       "        vertical-align: top;\n",
       "    }\n",
       "\n",
       "    .dataframe thead th {\n",
       "        text-align: right;\n",
       "    }\n",
       "</style>\n",
       "<table border=\"1\" class=\"dataframe\">\n",
       "  <thead>\n",
       "    <tr style=\"text-align: right;\">\n",
       "      <th></th>\n",
       "      <th>id</th>\n",
       "      <th>price</th>\n",
       "      <th>beds</th>\n",
       "      <th>baths</th>\n",
       "      <th>sqft</th>\n",
       "      <th>elementary</th>\n",
       "      <th>middle</th>\n",
       "      <th>high</th>\n",
       "    </tr>\n",
       "  </thead>\n",
       "  <tbody>\n",
       "    <tr>\n",
       "      <th>28</th>\n",
       "      <td>https://www.zillow.com/homedetails/401-Courtho...</td>\n",
       "      <td>NaN</td>\n",
       "      <td>-- beds</td>\n",
       "      <td>2 baths</td>\n",
       "      <td>1,853 sqft</td>\n",
       "      <td>9</td>\n",
       "      <td>5</td>\n",
       "      <td>8</td>\n",
       "    </tr>\n",
       "    <tr>\n",
       "      <th>52</th>\n",
       "      <td>https://www.zillow.com/homedetails/210-Leacrof...</td>\n",
       "      <td>NaN</td>\n",
       "      <td>-- beds</td>\n",
       "      <td>4 baths</td>\n",
       "      <td>3,299 sqft</td>\n",
       "      <td>9</td>\n",
       "      <td>5</td>\n",
       "      <td>8</td>\n",
       "    </tr>\n",
       "    <tr>\n",
       "      <th>75</th>\n",
       "      <td>https://www.zillow.com/homedetails/3002-Page-R...</td>\n",
       "      <td>$275,000</td>\n",
       "      <td>NaN</td>\n",
       "      <td>NaN</td>\n",
       "      <td>NaN</td>\n",
       "      <td>4</td>\n",
       "      <td>3</td>\n",
       "      <td>4</td>\n",
       "    </tr>\n",
       "  </tbody>\n",
       "</table>\n",
       "</div>"
      ],
      "text/plain": [
       "                                                   id     price     beds  \\\n",
       "28  https://www.zillow.com/homedetails/401-Courtho...       NaN  -- beds   \n",
       "52  https://www.zillow.com/homedetails/210-Leacrof...       NaN  -- beds   \n",
       "75  https://www.zillow.com/homedetails/3002-Page-R...  $275,000      NaN   \n",
       "\n",
       "      baths        sqft  elementary  middle  high  \n",
       "28  2 baths  1,853 sqft           9       5     8  \n",
       "52  4 baths  3,299 sqft           9       5     8  \n",
       "75      NaN         NaN           4       3     4  "
      ]
     },
     "execution_count": 148,
     "metadata": {},
     "output_type": "execute_result"
    }
   ],
   "source": [
    "data[data.isnull().any(axis=1)]"
   ]
  },
  {
   "cell_type": "code",
   "execution_count": 159,
   "metadata": {},
   "outputs": [],
   "source": [
    "data = data.fillna(\"-1\")"
   ]
  },
  {
   "cell_type": "markdown",
   "metadata": {},
   "source": [
    "extract numbers for price, beds, baths and sqft"
   ]
  },
  {
   "cell_type": "code",
   "execution_count": 160,
   "metadata": {},
   "outputs": [],
   "source": [
    "data['price'] = data['price'].apply(lambda x: x[1:])\n",
    "data['beds'] = data['beds'].apply(lambda x: (x.split()[0]))\n",
    "data['baths'] = data['baths'].apply(lambda x: (x.split()[0]))\n",
    "data['sqft'] = data['sqft'].apply(lambda x: x.split()[0])"
   ]
  },
  {
   "cell_type": "code",
   "execution_count": 140,
   "metadata": {},
   "outputs": [
    {
     "data": {
      "text/html": [
       "<div>\n",
       "<style scoped>\n",
       "    .dataframe tbody tr th:only-of-type {\n",
       "        vertical-align: middle;\n",
       "    }\n",
       "\n",
       "    .dataframe tbody tr th {\n",
       "        vertical-align: top;\n",
       "    }\n",
       "\n",
       "    .dataframe thead th {\n",
       "        text-align: right;\n",
       "    }\n",
       "</style>\n",
       "<table border=\"1\" class=\"dataframe\">\n",
       "  <thead>\n",
       "    <tr style=\"text-align: right;\">\n",
       "      <th></th>\n",
       "      <th>id</th>\n",
       "      <th>price</th>\n",
       "      <th>beds</th>\n",
       "      <th>baths</th>\n",
       "      <th>sqft</th>\n",
       "      <th>elementary</th>\n",
       "      <th>middle</th>\n",
       "      <th>high</th>\n",
       "    </tr>\n",
       "  </thead>\n",
       "  <tbody>\n",
       "    <tr>\n",
       "      <th>0</th>\n",
       "      <td>https://www.zillow.com/homedetails/113-Hunters...</td>\n",
       "      <td>69,900</td>\n",
       "      <td>3</td>\n",
       "      <td>2</td>\n",
       "      <td>1,203</td>\n",
       "      <td>9</td>\n",
       "      <td>6</td>\n",
       "      <td>8</td>\n",
       "    </tr>\n",
       "    <tr>\n",
       "      <th>1</th>\n",
       "      <td>https://www.zillow.com/homedetails/107-Gratiot...</td>\n",
       "      <td>44,900</td>\n",
       "      <td>4</td>\n",
       "      <td>3</td>\n",
       "      <td>2,060</td>\n",
       "      <td>9</td>\n",
       "      <td>5</td>\n",
       "      <td>8</td>\n",
       "    </tr>\n",
       "    <tr>\n",
       "      <th>2</th>\n",
       "      <td>https://www.zillow.com/homedetails/204-Governo...</td>\n",
       "      <td>00,000</td>\n",
       "      <td>4</td>\n",
       "      <td>3</td>\n",
       "      <td>2,821</td>\n",
       "      <td>9</td>\n",
       "      <td>5</td>\n",
       "      <td>8</td>\n",
       "    </tr>\n",
       "    <tr>\n",
       "      <th>3</th>\n",
       "      <td>https://www.zillow.com/homedetails/123-Trellin...</td>\n",
       "      <td>,349,000</td>\n",
       "      <td>6</td>\n",
       "      <td>7</td>\n",
       "      <td>7,676</td>\n",
       "      <td>8</td>\n",
       "      <td>5</td>\n",
       "      <td>8</td>\n",
       "    </tr>\n",
       "    <tr>\n",
       "      <th>4</th>\n",
       "      <td>https://www.zillow.com/homedetails/1713-Legend...</td>\n",
       "      <td>69,900</td>\n",
       "      <td>3</td>\n",
       "      <td>2.5</td>\n",
       "      <td>2,360</td>\n",
       "      <td>9</td>\n",
       "      <td>6</td>\n",
       "      <td>6</td>\n",
       "    </tr>\n",
       "  </tbody>\n",
       "</table>\n",
       "</div>"
      ],
      "text/plain": [
       "                                                  id     price beds baths  \\\n",
       "0  https://www.zillow.com/homedetails/113-Hunters...    69,900    3     2   \n",
       "1  https://www.zillow.com/homedetails/107-Gratiot...    44,900    4     3   \n",
       "2  https://www.zillow.com/homedetails/204-Governo...    00,000    4     3   \n",
       "3  https://www.zillow.com/homedetails/123-Trellin...  ,349,000    6     7   \n",
       "4  https://www.zillow.com/homedetails/1713-Legend...    69,900    3   2.5   \n",
       "\n",
       "    sqft  elementary  middle  high  \n",
       "0  1,203           9       6     8  \n",
       "1  2,060           9       5     8  \n",
       "2  2,821           9       5     8  \n",
       "3  7,676           8       5     8  \n",
       "4  2,360           9       6     6  "
      ]
     },
     "execution_count": 140,
     "metadata": {},
     "output_type": "execute_result"
    }
   ],
   "source": [
    "data.head(5)"
   ]
  },
  {
   "cell_type": "markdown",
   "metadata": {},
   "source": [
    "replace string \"--\" with \"0\""
   ]
  },
  {
   "cell_type": "code",
   "execution_count": 161,
   "metadata": {},
   "outputs": [],
   "source": [
    "data['beds'] = data['beds'].apply(lambda x: x.replace(\"--\", \"0\"))\n",
    "data['baths'] = data['baths'].apply(lambda x: x.replace(\"--\", \"0\"))\n",
    "data['sqft'] = data['sqft'].apply(lambda x: x.replace(\"--\", \"0\"))"
   ]
  },
  {
   "cell_type": "markdown",
   "metadata": {},
   "source": [
    "change data type at columns: price from string to int"
   ]
  },
  {
   "cell_type": "code",
   "execution_count": 162,
   "metadata": {},
   "outputs": [],
   "source": [
    "data['price'] = data['price'].apply(lambda x: int(x.replace(\",\",\"\")))"
   ]
  },
  {
   "cell_type": "markdown",
   "metadata": {},
   "source": [
    "change data type at columns: beds, baths, sqft from string to float"
   ]
  },
  {
   "cell_type": "code",
   "execution_count": 163,
   "metadata": {},
   "outputs": [],
   "source": [
    "data['beds'] = data['beds'].apply(lambda x: float(x))\n",
    "data['baths'] = data['baths'].apply(lambda x: float(x))\n",
    "data['sqft'] = data['sqft'].apply(lambda x: float(x.replace(\",\",\"\")))"
   ]
  },
  {
   "cell_type": "markdown",
   "metadata": {},
   "source": [
    "change data type at columns: elementary, middle, high from numpy int64 to int"
   ]
  },
  {
   "cell_type": "code",
   "execution_count": 167,
   "metadata": {},
   "outputs": [],
   "source": [
    "data['elementary'] = data['elementary'].apply(lambda x: np.asscalar(np.int16(x)))"
   ]
  },
  {
   "cell_type": "code",
   "execution_count": 168,
   "metadata": {},
   "outputs": [],
   "source": [
    "data['middle'] = data['middle'].apply(lambda x: np.asscalar(np.int16(x)))\n",
    "data['high'] = data['high'].apply(lambda x: np.asscalar(np.int16(x)))"
   ]
  },
  {
   "cell_type": "markdown",
   "metadata": {},
   "source": [
    "transform id column"
   ]
  },
  {
   "cell_type": "code",
   "execution_count": 173,
   "metadata": {},
   "outputs": [],
   "source": [
    "data['id'] = data['id'].apply(lambda x: x.split('/')[-2].split('_')[0])"
   ]
  },
  {
   "cell_type": "markdown",
   "metadata": {},
   "source": [
    "After preprocessing dataframe, here is the metadata:\n",
    "* id(zilloa id): string\n",
    "* price, beds, baths: float\n",
    "* elementary, middle, high: int"
   ]
  },
  {
   "cell_type": "code",
   "execution_count": 175,
   "metadata": {},
   "outputs": [
    {
     "data": {
      "text/html": [
       "<div>\n",
       "<style scoped>\n",
       "    .dataframe tbody tr th:only-of-type {\n",
       "        vertical-align: middle;\n",
       "    }\n",
       "\n",
       "    .dataframe tbody tr th {\n",
       "        vertical-align: top;\n",
       "    }\n",
       "\n",
       "    .dataframe thead th {\n",
       "        text-align: right;\n",
       "    }\n",
       "</style>\n",
       "<table border=\"1\" class=\"dataframe\">\n",
       "  <thead>\n",
       "    <tr style=\"text-align: right;\">\n",
       "      <th></th>\n",
       "      <th>id</th>\n",
       "      <th>price</th>\n",
       "      <th>beds</th>\n",
       "      <th>baths</th>\n",
       "      <th>sqft</th>\n",
       "      <th>elementary</th>\n",
       "      <th>middle</th>\n",
       "      <th>high</th>\n",
       "    </tr>\n",
       "  </thead>\n",
       "  <tbody>\n",
       "    <tr>\n",
       "      <th>0</th>\n",
       "      <td>6543438</td>\n",
       "      <td>269900</td>\n",
       "      <td>3.0</td>\n",
       "      <td>2.0</td>\n",
       "      <td>1203.0</td>\n",
       "      <td>9</td>\n",
       "      <td>6</td>\n",
       "      <td>8</td>\n",
       "    </tr>\n",
       "    <tr>\n",
       "      <th>1</th>\n",
       "      <td>50115340</td>\n",
       "      <td>344900</td>\n",
       "      <td>4.0</td>\n",
       "      <td>3.0</td>\n",
       "      <td>2060.0</td>\n",
       "      <td>9</td>\n",
       "      <td>5</td>\n",
       "      <td>8</td>\n",
       "    </tr>\n",
       "    <tr>\n",
       "      <th>2</th>\n",
       "      <td>65330963</td>\n",
       "      <td>400000</td>\n",
       "      <td>4.0</td>\n",
       "      <td>3.0</td>\n",
       "      <td>2821.0</td>\n",
       "      <td>9</td>\n",
       "      <td>5</td>\n",
       "      <td>8</td>\n",
       "    </tr>\n",
       "    <tr>\n",
       "      <th>3</th>\n",
       "      <td>50113644</td>\n",
       "      <td>2349000</td>\n",
       "      <td>6.0</td>\n",
       "      <td>7.0</td>\n",
       "      <td>7676.0</td>\n",
       "      <td>8</td>\n",
       "      <td>5</td>\n",
       "      <td>8</td>\n",
       "    </tr>\n",
       "    <tr>\n",
       "      <th>4</th>\n",
       "      <td>79883305</td>\n",
       "      <td>369900</td>\n",
       "      <td>3.0</td>\n",
       "      <td>2.5</td>\n",
       "      <td>2360.0</td>\n",
       "      <td>9</td>\n",
       "      <td>6</td>\n",
       "      <td>6</td>\n",
       "    </tr>\n",
       "  </tbody>\n",
       "</table>\n",
       "</div>"
      ],
      "text/plain": [
       "         id    price  beds  baths    sqft  elementary  middle  high\n",
       "0   6543438   269900   3.0    2.0  1203.0           9       6     8\n",
       "1  50115340   344900   4.0    3.0  2060.0           9       5     8\n",
       "2  65330963   400000   4.0    3.0  2821.0           9       5     8\n",
       "3  50113644  2349000   6.0    7.0  7676.0           8       5     8\n",
       "4  79883305   369900   3.0    2.5  2360.0           9       6     6"
      ]
     },
     "execution_count": 175,
     "metadata": {},
     "output_type": "execute_result"
    }
   ],
   "source": [
    "data.head()"
   ]
  },
  {
   "cell_type": "markdown",
   "metadata": {},
   "source": [
    "**Add new features**"
   ]
  },
  {
   "cell_type": "markdown",
   "metadata": {},
   "source": [
    "new feature: price per sqft"
   ]
  },
  {
   "cell_type": "code",
   "execution_count": 192,
   "metadata": {},
   "outputs": [],
   "source": [
    "data['price/sqft'] = data['price']/data['sqft']\n",
    "data['price/sqft'] = data['price/sqft'].apply(lambda x: \"%.2f\" % x)"
   ]
  },
  {
   "cell_type": "code",
   "execution_count": 197,
   "metadata": {},
   "outputs": [],
   "source": [
    "cols = data.columns.tolist()\n",
    "cols = ['id','price','sqft','price/sqft','beds','baths','elementary','middle','high', 'sch_score']\n",
    "data = data[cols]"
   ]
  },
  {
   "cell_type": "markdown",
   "metadata": {},
   "source": [
    "new feature: weighted score for three level of schools"
   ]
  },
  {
   "cell_type": "code",
   "execution_count": 196,
   "metadata": {},
   "outputs": [],
   "source": [
    "data['sch_score'] = 0.4*data['elementary'] + 0.4*data['middle'] + 0.2*data['high']"
   ]
  },
  {
   "cell_type": "code",
   "execution_count": 198,
   "metadata": {},
   "outputs": [
    {
     "data": {
      "text/html": [
       "<div>\n",
       "<style scoped>\n",
       "    .dataframe tbody tr th:only-of-type {\n",
       "        vertical-align: middle;\n",
       "    }\n",
       "\n",
       "    .dataframe tbody tr th {\n",
       "        vertical-align: top;\n",
       "    }\n",
       "\n",
       "    .dataframe thead th {\n",
       "        text-align: right;\n",
       "    }\n",
       "</style>\n",
       "<table border=\"1\" class=\"dataframe\">\n",
       "  <thead>\n",
       "    <tr style=\"text-align: right;\">\n",
       "      <th></th>\n",
       "      <th>id</th>\n",
       "      <th>price</th>\n",
       "      <th>sqft</th>\n",
       "      <th>price/sqft</th>\n",
       "      <th>beds</th>\n",
       "      <th>baths</th>\n",
       "      <th>elementary</th>\n",
       "      <th>middle</th>\n",
       "      <th>high</th>\n",
       "      <th>sch_score</th>\n",
       "    </tr>\n",
       "  </thead>\n",
       "  <tbody>\n",
       "    <tr>\n",
       "      <th>0</th>\n",
       "      <td>6543438</td>\n",
       "      <td>269900</td>\n",
       "      <td>1203.0</td>\n",
       "      <td>224.36</td>\n",
       "      <td>3.0</td>\n",
       "      <td>2.0</td>\n",
       "      <td>9</td>\n",
       "      <td>6</td>\n",
       "      <td>8</td>\n",
       "      <td>7.6</td>\n",
       "    </tr>\n",
       "    <tr>\n",
       "      <th>1</th>\n",
       "      <td>50115340</td>\n",
       "      <td>344900</td>\n",
       "      <td>2060.0</td>\n",
       "      <td>167.43</td>\n",
       "      <td>4.0</td>\n",
       "      <td>3.0</td>\n",
       "      <td>9</td>\n",
       "      <td>5</td>\n",
       "      <td>8</td>\n",
       "      <td>7.2</td>\n",
       "    </tr>\n",
       "    <tr>\n",
       "      <th>2</th>\n",
       "      <td>65330963</td>\n",
       "      <td>400000</td>\n",
       "      <td>2821.0</td>\n",
       "      <td>141.79</td>\n",
       "      <td>4.0</td>\n",
       "      <td>3.0</td>\n",
       "      <td>9</td>\n",
       "      <td>5</td>\n",
       "      <td>8</td>\n",
       "      <td>7.2</td>\n",
       "    </tr>\n",
       "    <tr>\n",
       "      <th>3</th>\n",
       "      <td>50113644</td>\n",
       "      <td>2349000</td>\n",
       "      <td>7676.0</td>\n",
       "      <td>306.02</td>\n",
       "      <td>6.0</td>\n",
       "      <td>7.0</td>\n",
       "      <td>8</td>\n",
       "      <td>5</td>\n",
       "      <td>8</td>\n",
       "      <td>6.8</td>\n",
       "    </tr>\n",
       "    <tr>\n",
       "      <th>4</th>\n",
       "      <td>79883305</td>\n",
       "      <td>369900</td>\n",
       "      <td>2360.0</td>\n",
       "      <td>156.74</td>\n",
       "      <td>3.0</td>\n",
       "      <td>2.5</td>\n",
       "      <td>9</td>\n",
       "      <td>6</td>\n",
       "      <td>6</td>\n",
       "      <td>7.2</td>\n",
       "    </tr>\n",
       "  </tbody>\n",
       "</table>\n",
       "</div>"
      ],
      "text/plain": [
       "         id    price    sqft price/sqft  beds  baths  elementary  middle  \\\n",
       "0   6543438   269900  1203.0     224.36   3.0    2.0           9       6   \n",
       "1  50115340   344900  2060.0     167.43   4.0    3.0           9       5   \n",
       "2  65330963   400000  2821.0     141.79   4.0    3.0           9       5   \n",
       "3  50113644  2349000  7676.0     306.02   6.0    7.0           8       5   \n",
       "4  79883305   369900  2360.0     156.74   3.0    2.5           9       6   \n",
       "\n",
       "   high  sch_score  \n",
       "0     8        7.6  \n",
       "1     8        7.2  \n",
       "2     8        7.2  \n",
       "3     8        6.8  \n",
       "4     6        7.2  "
      ]
     },
     "execution_count": 198,
     "metadata": {},
     "output_type": "execute_result"
    }
   ],
   "source": [
    "data.head()"
   ]
  },
  {
   "cell_type": "markdown",
   "metadata": {},
   "source": [
    "**Correlation analysis**"
   ]
  },
  {
   "cell_type": "markdown",
   "metadata": {},
   "source": [
    "visualize correlation between price and sqft"
   ]
  },
  {
   "cell_type": "code",
   "execution_count": 190,
   "metadata": {},
   "outputs": [
    {
     "name": "stderr",
     "output_type": "stream",
     "text": [
      "/Users/ruihu/anaconda3/lib/python3.6/site-packages/matplotlib/axes/_axes.py:6462: UserWarning: The 'normed' kwarg is deprecated, and has been replaced by the 'density' kwarg.\n",
      "  warnings.warn(\"The 'normed' kwarg is deprecated, and has been \"\n",
      "/Users/ruihu/anaconda3/lib/python3.6/site-packages/matplotlib/axes/_axes.py:6462: UserWarning: The 'normed' kwarg is deprecated, and has been replaced by the 'density' kwarg.\n",
      "  warnings.warn(\"The 'normed' kwarg is deprecated, and has been \"\n"
     ]
    },
    {
     "data": {
      "image/png": "[encoded data removed]",
      "text/plain": [
       "<Figure size 720x720 with 3 Axes>"
      ]
     },
     "metadata": {},
     "output_type": "display_data"
    }
   ],
   "source": [
    "sns.jointplot(x='sqft', y='price', data=data, size=(10))\n",
    "plt.show()"
   ]
  },
  {
   "cell_type": "markdown",
   "metadata": {},
   "source": [
    "It shows that there are several outliers with high price and large sqft."
   ]
  },
  {
   "cell_type": "markdown",
   "metadata": {},
   "source": [
    "The pearson correlation between price and sqft is high, but p-value is low which means the correlation coefficient is significant."
   ]
  },
  {
   "cell_type": "markdown",
   "metadata": {},
   "source": [
    "**Visualization of house details**"
   ]
  },
  {
   "cell_type": "markdown",
   "metadata": {},
   "source": [
    "visualize the amount of beds and baths for houses in this area"
   ]
  },
  {
   "cell_type": "code",
   "execution_count": 201,
   "metadata": {},
   "outputs": [
    {
     "data": {
      "image/png": "[encoded data removed]",
      "text/plain": [
       "<Figure size 720x1080 with 2 Axes>"
      ]
     },
     "metadata": {},
     "output_type": "display_data"
    }
   ],
   "source": [
    "fig, ax = plt.subplots(2,1,figsize=(10,15))\n",
    "sns.countplot(data['beds'], ax=ax[0])\n",
    "sns.countplot(data['baths'],ax=ax[1])\n",
    "plt.show()"
   ]
  },
  {
   "cell_type": "code",
   "execution_count": null,
   "metadata": {},
   "outputs": [],
   "source": []
  },
  {
   "cell_type": "code",
   "execution_count": null,
   "metadata": {},
   "outputs": [],
   "source": []
  }
 ],
 "metadata": {
  "kernelspec": {
   "display_name": "Python 3",
   "language": "python",
   "name": "python3"
  },
  "language_info": {
   "codemirror_mode": {
    "name": "ipython",
    "version": 3
   },
   "file_extension": ".py",
   "mimetype": "text/x-python",
   "name": "python",
   "nbconvert_exporter": "python",
   "pygments_lexer": "ipython3",
   "version": "3.6.5"
  }
 },
 "nbformat": 4,
 "nbformat_minor": 2
}
