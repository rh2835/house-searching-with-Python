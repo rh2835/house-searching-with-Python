{
 "cells": [
  {
   "cell_type": "markdown",
   "metadata": {},
   "source": [
    "This project is to build a web scraper that can:\n",
    "* scrape all search results from real estate websites and build a databasee\n",
    "* perform exploratory data analysis, and find valued propertities"
   ]
  },
  {
   "cell_type": "markdown",
   "metadata": {},
   "source": [
    "The website I will be scraping is zillow(https://www.zillow.com/)."
   ]
  },
  {
   "cell_type": "markdown",
   "metadata": {},
   "source": [
    "**Agenda**:\n",
    "* preparing for the packages\n",
    "* requests html pages of the data\n",
    "* use beautiful soup to parse information\n",
    "* extract specific house information\n",
    "* get each house link as house_id \n",
    "* scrape house details"
   ]
  },
  {
   "cell_type": "markdown",
   "metadata": {},
   "source": [
    "**Preparing for the packages**"
   ]
  },
  {
   "cell_type": "code",
   "execution_count": 328,
   "metadata": {},
   "outputs": [],
   "source": [
    "from bs4 import BeautifulSoup\n",
    "from requests import get\n",
    "import re\n",
    "import pandas as pd\n",
    "import itertools\n",
    "import matplotlib.pyplot as plt\n",
    "import seaborn as sns\n",
    "sns.set()"
   ]
  },
  {
   "cell_type": "markdown",
   "metadata": {},
   "source": [
    "**Requests html pages of the data**"
   ]
  },
  {
   "cell_type": "code",
   "execution_count": 424,
   "metadata": {},
   "outputs": [],
   "source": [
    "url = \"https://www.zillow.com/homes/for_sale/27560_rb/2_p\"\n",
    "headers = ({'User-Agent':\n",
    "            'Mozilla/5.0 (Macintosh; Intel Mac OS X 10_14_1) AppleWebKit/537.36 (KHTML, like Gecko) Chrome/72.0.3607.0 Safari/537.36'})\n",
    "response = get(url, headers = headers)"
   ]
  },
  {
   "cell_type": "markdown",
   "metadata": {},
   "source": [
    "**Use beautiful soup to parse information**"
   ]
  },
  {
   "cell_type": "code",
   "execution_count": 425,
   "metadata": {},
   "outputs": [],
   "source": [
    "html_soup = BeautifulSoup(response.text, 'html.parser')"
   ]
  },
  {
   "cell_type": "code",
   "execution_count": 426,
   "metadata": {},
   "outputs": [],
   "source": [
    "facts = html_soup.find('div', class_='zsg-separator')\n",
    "house_containers = html_soup.find_all('div', class_='zsg-photo-card-content zsg-aspect-ratio-content')"
   ]
  },
  {
   "cell_type": "code",
   "execution_count": 421,
   "metadata": {},
   "outputs": [
    {
     "data": {
      "text/plain": [
       "76"
      ]
     },
     "execution_count": 421,
     "metadata": {},
     "output_type": "execute_result"
    }
   ],
   "source": [
    "pattern = 'for Sale:[0-9]+'\n",
    "line = re.search(pattern, facts.text).group()\n",
    "ind = line.index(':')\n",
    "total = int(line[ind+1:])\n",
    "total"
   ]
  },
  {
   "cell_type": "code",
   "execution_count": 430,
   "metadata": {},
   "outputs": [
    {
     "data": {
      "text/plain": [
       "[<span class=\"hide\" itemprop=\"address\" itemscope=\"\" itemtype=\"http://schema.org/PostalAddress\"><span itemprop=\"streetAddress\">104 Carter Grove Ct</span><span itemprop=\"addressLocality\"> MORRISVILLE </span><span itemprop=\"addressRegion\">NC </span><span class=\"hide\" itemprop=\"postalCode\">27560</span></span>,\n",
       " <span itemprop=\"streetAddress\">104 Carter Grove Ct</span>,\n",
       " <span itemprop=\"addressLocality\"> MORRISVILLE </span>,\n",
       " <span itemprop=\"addressRegion\">NC </span>,\n",
       " <span class=\"hide\" itemprop=\"postalCode\">27560</span>,\n",
       " <span itemprop=\"geo\" itemscope=\"\" itemtype=\"http://schema.org/GeoCoordinates\"><meta content=\"35.8365\" itemprop=\"latitude\"/><meta content=\"-78.8686\" itemprop=\"longitude\"/></span>,\n",
       " <span class=\"zsg-photo-card-status\"><span class=\"zsg-icon-for-sale\"></span>House for sale</span>,\n",
       " <span class=\"zsg-icon-for-sale\"></span>,\n",
       " <span class=\"zsg-photo-card-price\">$475,000</span>,\n",
       " <span class=\"zsg-photo-card-info\">4 bds <span class=\"interpunct\">·</span> 3 ba <span class=\"interpunct\">·</span> 3,087 sqft</span>,\n",
       " <span class=\"interpunct\">·</span>,\n",
       " <span class=\"interpunct\">·</span>,\n",
       " <span class=\"zsg-photo-card-address\">104 Carter Grove Ct, Morrisville, NC</span>,\n",
       " <span class=\"zsg-photo-card-broker-name\">REIT Place, llc</span>,\n",
       " <span class=\"image-control sprite-heart-line new-save-hide-icon larger-save\"></span>]"
      ]
     },
     "execution_count": 430,
     "metadata": {},
     "output_type": "execute_result"
    }
   ],
   "source": [
    "first = house_containers[4]\n",
    "first.find_all('span')"
   ]
  },
  {
   "cell_type": "markdown",
   "metadata": {},
   "source": [
    "**Extract specific house information**"
   ]
  },
  {
   "cell_type": "markdown",
   "metadata": {},
   "source": [
    "extract house price"
   ]
  },
  {
   "cell_type": "code",
   "execution_count": 428,
   "metadata": {},
   "outputs": [
    {
     "data": {
      "text/plain": [
       "'$314,200+'"
      ]
     },
     "execution_count": 428,
     "metadata": {},
     "output_type": "execute_result"
    }
   ],
   "source": [
    "var_1 = first.find_all('span')[8].text\n",
    "var_1"
   ]
  },
  {
   "cell_type": "markdown",
   "metadata": {},
   "source": [
    "extrace house location"
   ]
  },
  {
   "cell_type": "code",
   "execution_count": 413,
   "metadata": {},
   "outputs": [
    {
     "data": {
      "text/plain": [
       "'107 Gratiot Dr, Morrisville, NC'"
      ]
     },
     "execution_count": 413,
     "metadata": {},
     "output_type": "execute_result"
    }
   ],
   "source": [
    "location = first.find_all('p')[1].text\n",
    "location"
   ]
  },
  {
   "cell_type": "markdown",
   "metadata": {},
   "source": [
    "extract house size"
   ]
  },
  {
   "cell_type": "code",
   "execution_count": 414,
   "metadata": {},
   "outputs": [
    {
     "data": {
      "text/plain": [
       "['4 bds', '3 ba', '2,060 sqft']"
      ]
     },
     "execution_count": 414,
     "metadata": {},
     "output_type": "execute_result"
    }
   ],
   "source": [
    "size = first.find_all('span')[9].text\n",
    "size.split(' · ')"
   ]
  },
  {
   "cell_type": "markdown",
   "metadata": {},
   "source": [
    "get all the links"
   ]
  },
  {
   "cell_type": "code",
   "execution_count": 107,
   "metadata": {},
   "outputs": [],
   "source": [
    "links = []\n",
    "l = len(house_containers)\n",
    "for i in range(l):\n",
    "    for url in house_containers[i].find_all('a'):\n",
    "        link = url.get('href')\n",
    "        if link.startswith('/myzillow') is False:\n",
    "            link = 'https://www.zillow.com' + link\n",
    "            links.append(link)        "
   ]
  },
  {
   "cell_type": "markdown",
   "metadata": {},
   "source": [
    "**Get each house link as house_id**"
   ]
  },
  {
   "cell_type": "code",
   "execution_count": 448,
   "metadata": {},
   "outputs": [
    {
     "name": "stdout",
     "output_type": "stream",
     "text": [
      "len is 25\n",
      "len is 25\n",
      "len is 25\n",
      "len is 8\n"
     ]
    }
   ],
   "source": [
    "from bs4 import BeautifulSoup\n",
    "from requests import get\n",
    "import time, random \n",
    "import re\n",
    "import pandas as pd\n",
    "import itertools\n",
    "import matplotlib.pyplot as plt\n",
    "import seaborn as sns\n",
    "#scrape house information from main page\n",
    "n_page=1\n",
    "sum_house=0\n",
    "prices = []\n",
    "beds = []\n",
    "baths = []\n",
    "sqfts = []\n",
    "house_ids = []\n",
    "total = 1000\n",
    "i = 0\n",
    "\n",
    "def get_house_soup():\n",
    "    response = get(url, headers = headers)\n",
    "    html_soup = BeautifulSoup(response.text, 'html.parser')\n",
    "    return html_soup\n",
    "\n",
    "def get_house_containers(html_soup):\n",
    "    house_containers = html_soup.find_all('div', class_=\"zsg-photo-card-content zsg-aspect-ratio-content\")\n",
    "    return house_containers\n",
    "\n",
    "def get_num_houses_per_page(house_containers):\n",
    "    num_house_page = len(house_containers)\n",
    "    print(\"len is \" + str(num_house_page))\n",
    "    return num_house_page\n",
    "\n",
    "def get_total_houses(html_soup):\n",
    "    facts = html_soup.find('div', class_='zsg-separator')\n",
    "    pattern = 'for Sale:[0-9]+'\n",
    "    line = re.search(pattern, facts.text).group()\n",
    "    ind = line.index(':')\n",
    "    total = int(line[ind+1:])\n",
    "    return total\n",
    "\n",
    "def get_individial_house(house_containers):\n",
    "    for i in range(len(house_containers)):        \n",
    "        for instance in house_containers[i].find_all('a'):\n",
    "            house_id = instance.get('href')\n",
    "            if house_id.startswith('/myzillow') is False:\n",
    "                house_id = 'https://www.zillow.com' + house_id\n",
    "                house_ids.append(house_id)    \n",
    "\n",
    "while sum_house < total:\n",
    "    url = \"https://www.zillow.com/homes/for_sale/27560_rb/\" + str(n_page+i) + \"_p\"\n",
    "\n",
    "    headers = ({'User-Agent':\n",
    "                    'Mozilla/5.0 (Macintosh; Intel Mac OS X 10_14_1) AppleWebKit/537.36 (KHTML, like Gecko) Chrome/72.0.3607.0 Safari/537.36'})\n",
    "    soup = get_house_soup()\n",
    "    house_containers = get_house_containers(soup)\n",
    "    sum_house = sum_house + get_num_houses_per_page(house_containers)\n",
    "    total = get_total_houses(soup)\n",
    "    get_individial_house(house_containers)\n",
    "    i = i + 1\n",
    "    time.sleep(5)"
   ]
  },
  {
   "cell_type": "markdown",
   "metadata": {},
   "source": [
    "**Scrape house details**"
   ]
  },
  {
   "cell_type": "code",
   "execution_count": 585,
   "metadata": {},
   "outputs": [
    {
     "name": "stdout",
     "output_type": "stream",
     "text": [
      " \n",
      "3 beds\n",
      " \n",
      "2.5 baths\n",
      " \n",
      "2,360 sqft\n",
      "\n",
      "$369,900\n"
     ]
    }
   ],
   "source": [
    "url = \"https://www.zillow.com/homedetails/1713-Legendary-Ln-Morrisville-NC-27560/79883305_zpid/\"\n",
    "headers = ({'User-Agent':\n",
    "            'Mozilla/5.0 (Macintosh; Intel Mac OS X 10_14_1) AppleWebKit/537.36 (KHTML, like Gecko) Chrome/72.0.3607.0 Safari/537.36'})\n",
    "response = get(url, headers = headers)\n",
    "\n",
    "html_soup = BeautifulSoup(response.text, 'html.parser')\n",
    "summary = html_soup.find('div', class_=\"home-details-summary-and-price\")\n",
    "summary = summary.find_all('span')\n",
    "house_infos = []\n",
    "for i in range(len(summary)):\n",
    "    info = summary[i].text\n",
    "    print(info)\n",
    "    house_infos.append(info)"
   ]
  },
  {
   "cell_type": "code",
   "execution_count": 543,
   "metadata": {},
   "outputs": [
    {
     "data": {
      "text/plain": [
       "'$354,900'"
      ]
     },
     "execution_count": 543,
     "metadata": {},
     "output_type": "execute_result"
    }
   ],
   "source": [
    "for info in infos:\n",
    "    if \"$\" in info:\n",
    "        sqft = info\n",
    "    else:\n",
    "        continue\n",
    "sqft"
   ]
  },
  {
   "cell_type": "code",
   "execution_count": 586,
   "metadata": {},
   "outputs": [
    {
     "data": {
      "text/plain": [
       "['9', '6', '6']"
      ]
     },
     "execution_count": 586,
     "metadata": {},
     "output_type": "execute_result"
    }
   ],
   "source": [
    "schools = html_soup.find('div', class_=\"hdp-nearby-schools\")\n",
    "sch_summary = schools.find_all('span')\n",
    "l = len(sch_summary)\n",
    "sch_infos = []\n",
    "\n",
    "for i in range(l-1):\n",
    "    info = sch_summary[i].text\n",
    "    if info.isdigit():\n",
    "        sch_infos.append(info)\n",
    "sch_infos"
   ]
  },
  {
   "cell_type": "markdown",
   "metadata": {},
   "source": [
    "The completed code is saved as zillow_scraper.py"
   ]
  },
  {
   "cell_type": "code",
   "execution_count": null,
   "metadata": {},
   "outputs": [],
   "source": []
  }
 ],
 "metadata": {
  "kernelspec": {
   "display_name": "Python 3",
   "language": "python",
   "name": "python3"
  },
  "language_info": {
   "codemirror_mode": {
    "name": "ipython",
    "version": 3
   },
   "file_extension": ".py",
   "mimetype": "text/x-python",
   "name": "python",
   "nbconvert_exporter": "python",
   "pygments_lexer": "ipython3",
   "version": "3.6.5"
  }
 },
 "nbformat": 4,
 "nbformat_minor": 2
}
